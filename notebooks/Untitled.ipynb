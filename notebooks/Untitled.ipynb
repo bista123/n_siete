{
 "cells": [
  {
   "cell_type": "markdown",
   "metadata": {},
   "source": [
    "# Data analysis\n",
    "In this notebook we present essential data analysis of our input dataset. We get this dataset from -GG-."
   ]
  },
  {
   "cell_type": "markdown",
   "metadata": {},
   "source": [
    "Our input dataset consist of weather data from 3 American cities:\n",
    " - Los Angeles\n",
    " - Phoenix\n",
    " - San Francisco\n",
    "\n",
    "All these cities lies close to each other on the Southwestern part of United States, which means that the weather conditions in these cities should not differ a lot. The weather is highly affected by Pacific Ocean.\n",
    "\n",
    "We have hourly information about average temperature(in Fahrenheits) and average wind speed. These information were collected for the period of one year, which means that we have 8759 rows for each city.\n",
    "\n",
    "We will work with temperature prediction in our project."
   ]
  },
  {
   "cell_type": "markdown",
   "metadata": {},
   "source": [
    "## Checkpoint"
   ]
  },
  {
   "cell_type": "code",
   "execution_count": null,
   "metadata": {},
   "outputs": [],
   "source": [
    "import matplotlib as mpl\n",
    "import matplotlib.pyplot as plt\n",
    "import numpy as np\n",
    "import pandas as pd\n",
    "import os"
   ]
  },
  {
   "cell_type": "code",
   "execution_count": 13,
   "metadata": {},
   "outputs": [
    {
     "data": {
      "text/plain": [
       "(8759, 4)"
      ]
     },
     "execution_count": 13,
     "metadata": {},
     "output_type": "execute_result"
    }
   ],
   "source": [
    "df = pd.read_csv('weather_forecast/data/raw/temperatures.csv')\n",
    "df.shape"
   ]
  },
  {
   "cell_type": "code",
   "execution_count": 14,
   "metadata": {},
   "outputs": [
    {
     "name": "stdout",
     "output_type": "stream",
     "text": [
      "<bound method NDFrame.head of                 DATE  LA-HLY-TEMP-NORMAL  PH-HLY-TEMP-NORMAL  \\\n",
      "0     01-01T01:00:00                53.3                50.0   \n",
      "1     01-01T02:00:00                52.3                49.1   \n",
      "2     01-01T03:00:00                51.5                48.2   \n",
      "3     01-01T04:00:00                50.8                47.5   \n",
      "4     01-01T05:00:00                50.4                46.8   \n",
      "...              ...                 ...                 ...   \n",
      "8754  12-31T19:00:00                56.8                58.4   \n",
      "8755  12-31T20:00:00                56.6                56.3   \n",
      "8756  12-31T21:00:00                56.2                54.7   \n",
      "8757  12-31T22:00:00                55.4                53.5   \n",
      "8758  12-31T23:00:00                55.0                52.2   \n",
      "\n",
      "      SF-HLY-TEMP-NORMAL  \n",
      "0                   47.4  \n",
      "1                   46.9  \n",
      "2                   46.5  \n",
      "3                   46.0  \n",
      "4                   45.9  \n",
      "...                  ...  \n",
      "8754                50.4  \n",
      "8755                49.9  \n",
      "8756                49.4  \n",
      "8757                48.8  \n",
      "8758                48.3  \n",
      "\n",
      "[8759 rows x 4 columns]>\n"
     ]
    }
   ],
   "source": [
    "print(df.head)"
   ]
  },
  {
   "cell_type": "code",
   "execution_count": 15,
   "metadata": {},
   "outputs": [
    {
     "name": "stdout",
     "output_type": "stream",
     "text": [
      "<class 'pandas.core.frame.DataFrame'>\n",
      "RangeIndex: 8759 entries, 0 to 8758\n",
      "Data columns (total 4 columns):\n",
      "DATE                  8759 non-null object\n",
      "LA-HLY-TEMP-NORMAL    8759 non-null float64\n",
      "PH-HLY-TEMP-NORMAL    8759 non-null float64\n",
      "SF-HLY-TEMP-NORMAL    8759 non-null float64\n",
      "dtypes: float64(3), object(1)\n",
      "memory usage: 273.8+ KB\n"
     ]
    }
   ],
   "source": [
    "df.info()"
   ]
  },
  {
   "cell_type": "code",
   "execution_count": 16,
   "metadata": {},
   "outputs": [
    {
     "data": {
      "text/html": [
       "<div>\n",
       "<style scoped>\n",
       "    .dataframe tbody tr th:only-of-type {\n",
       "        vertical-align: middle;\n",
       "    }\n",
       "\n",
       "    .dataframe tbody tr th {\n",
       "        vertical-align: top;\n",
       "    }\n",
       "\n",
       "    .dataframe thead th {\n",
       "        text-align: right;\n",
       "    }\n",
       "</style>\n",
       "<table border=\"1\" class=\"dataframe\">\n",
       "  <thead>\n",
       "    <tr style=\"text-align: right;\">\n",
       "      <th></th>\n",
       "      <th>LA-HLY-TEMP-NORMAL</th>\n",
       "      <th>PH-HLY-TEMP-NORMAL</th>\n",
       "      <th>SF-HLY-TEMP-NORMAL</th>\n",
       "    </tr>\n",
       "  </thead>\n",
       "  <tbody>\n",
       "    <tr>\n",
       "      <th>count</th>\n",
       "      <td>8759.000000</td>\n",
       "      <td>8759.000000</td>\n",
       "      <td>8759.000000</td>\n",
       "    </tr>\n",
       "    <tr>\n",
       "      <th>mean</th>\n",
       "      <td>62.500377</td>\n",
       "      <td>75.055029</td>\n",
       "      <td>56.923621</td>\n",
       "    </tr>\n",
       "    <tr>\n",
       "      <th>std</th>\n",
       "      <td>5.821019</td>\n",
       "      <td>16.234063</td>\n",
       "      <td>6.108884</td>\n",
       "    </tr>\n",
       "    <tr>\n",
       "      <th>min</th>\n",
       "      <td>49.800000</td>\n",
       "      <td>45.200000</td>\n",
       "      <td>45.600000</td>\n",
       "    </tr>\n",
       "    <tr>\n",
       "      <th>25%</th>\n",
       "      <td>57.900000</td>\n",
       "      <td>61.500000</td>\n",
       "      <td>52.300000</td>\n",
       "    </tr>\n",
       "    <tr>\n",
       "      <th>50%</th>\n",
       "      <td>62.900000</td>\n",
       "      <td>75.100000</td>\n",
       "      <td>56.500000</td>\n",
       "    </tr>\n",
       "    <tr>\n",
       "      <th>75%</th>\n",
       "      <td>66.400000</td>\n",
       "      <td>88.400000</td>\n",
       "      <td>60.700000</td>\n",
       "    </tr>\n",
       "    <tr>\n",
       "      <th>max</th>\n",
       "      <td>75.000000</td>\n",
       "      <td>105.700000</td>\n",
       "      <td>72.200000</td>\n",
       "    </tr>\n",
       "  </tbody>\n",
       "</table>\n",
       "</div>"
      ],
      "text/plain": [
       "       LA-HLY-TEMP-NORMAL  PH-HLY-TEMP-NORMAL  SF-HLY-TEMP-NORMAL\n",
       "count         8759.000000         8759.000000         8759.000000\n",
       "mean            62.500377           75.055029           56.923621\n",
       "std              5.821019           16.234063            6.108884\n",
       "min             49.800000           45.200000           45.600000\n",
       "25%             57.900000           61.500000           52.300000\n",
       "50%             62.900000           75.100000           56.500000\n",
       "75%             66.400000           88.400000           60.700000\n",
       "max             75.000000          105.700000           72.200000"
      ]
     },
     "execution_count": 16,
     "metadata": {},
     "output_type": "execute_result"
    }
   ],
   "source": [
    "df.describe()"
   ]
  }
 ],
 "metadata": {
  "kernelspec": {
   "display_name": "Python 3",
   "language": "python",
   "name": "python3"
  },
  "language_info": {
   "codemirror_mode": {
    "name": "ipython",
    "version": 3
   },
   "file_extension": ".py",
   "mimetype": "text/x-python",
   "name": "python",
   "nbconvert_exporter": "python",
   "pygments_lexer": "ipython3",
   "version": "3.6.8"
  }
 },
 "nbformat": 4,
 "nbformat_minor": 2
}
