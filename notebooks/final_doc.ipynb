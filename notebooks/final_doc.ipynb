{
 "cells": [
  {
   "cell_type": "markdown",
   "metadata": {},
   "source": [
    "# BOD 1 - Návrh zadania"
   ]
  },
  {
   "cell_type": "markdown",
   "metadata": {},
   "source": [
    "## 1. Motivácia\n",
    "Počasie patrí medzi najvýraznejšie faktory, ktoré vplývajú na ľudský život na Zemi. Človek sa odjakživa snažil čo najpresnejšie predpovedať počasie práve kvôli jeho veľkému vplyvu na život každého jedinca. Od predpovedi počasia sú v súčasnosti takisto závislé mnohé odvetvia, či už poľnohospodárstvo, doprava(letecká, lodná), výroba elektrickej energie (veterné elektrárne a solárne panely) a mnohé ďalšie. Z týchto dôvodov je čo najpresnejšia predpoveď počasia veľmi dôležitá.\n",
    "\n",
    "\n",
    "V posledných rokoch sa začala na predpoveď počasia využívať nová technika - predpoveď pomocou neurónových sietí. Pri predpovedi počasia ide prakticky o predikciu časových radov. Kvôli premenlivosti sa počasia sa často na tieto problémy využívajú rekurentné neurónové siete.\n",
    "\n",
    "\n",
    "V našom projekte sme sa rohodli zaoberať predikciou časových radov a teda predpoveďou počasia. Našim cieľom je využiť rekurentné neurónové siete. Budeme pracovať s dátami zo štyroch Amerických miest ležiacich na Juhozápade Spojených štátov:\n",
    "\n",
    "- Los Angeles\n",
    "- San Francisco\n",
    "- Phoenix\n",
    "- Las Vegas\n",
    "\n",
    "## 2. Súvisiaca práca\n",
    "- *Sequence to Sequence Weather Forecasting with Long Short-Term Memory Recurrent Neural Networks 2016*\n",
    "\n",
    "\n",
    "V tejto práci sa autori zaoberajú predikciou počasia pre 9 miest v Maroku. Snažia sa o predpoveď teploty, vlhkosti a rýchlosti vetra na dva časové intervaly - 24 a 72 hodín. Používajú pri tom LSTM neurónové siete, ktoré patria do skupiny rekurentných neurónových sietí.\n",
    "\n",
    "Na natrénovanie modelu neorónovej siete použili približne 15 rokov meteorologických dát, ktoré boli zaznamenané v časovom intervale jednej hodiny. Model dosiahol dobrú úspešnnosť predpovedí, porovnateľnú s úspešnosťou metód, ktoré sa na predpoveď počasia používajú v dnešnej dobe. Hodnoty sú v minutových intervaloch a zaokrúhlené na tri desatinné miesta.\n",
    "\n",
    "Ďalšie práce v tejto oblasti:\n",
    "- *An ensemble of neural networks for weather forecasting 2004*\n",
    "- *An Efficient Weather Forecasting System using Artificial Neural Network 2010*\n",
    "- *Weather Forecasting using Deep Learning Techniques 2015*\n",
    "- *An effective weather forecasting using neural network 2014*\n",
    "\n",
    "\n",
    "## 3. Dataset\n",
    "Dataset obsahuje teplotu zaznamenanú vo vyššie uvedených mestách mestách v hodinových intervaloch počas obdobia jedého roka. Dokopy tak máme 35036 záznamov, 8759 pre každé mesto.\n",
    "\n",
    "Ako bolo uvedené v analýze dát, dáta sú kompletné, neobsahujú chýbajúce hodnoty ani vychýlené hodnoty(outliery).\n",
    "\n",
    "### Príklad dát:\n",
    "![weather](./images/pocasiedata.png)\n",
    "\n",
    "\n",
    "## 4. Návrh riešenia\n",
    "Náš model sa bude skladať z viacvrstvovej rekurentnej neurónovej siete. Túto sieť budeme trénovať na vopred opísanom datasete a chceme aby predikovala teplotu a iné meteorologické dáta na pár dní dopredu."
   ]
  },
  {
   "cell_type": "markdown",
   "metadata": {},
   "source": [
    "# BOD 2 - Analýza dát"
   ]
  },
  {
   "cell_type": "markdown",
   "metadata": {},
   "source": [
    "Náš vstupný dataset sa skladá z dát z troch Amerických miest:\n",
    "\n",
    "- Los Angeles\n",
    "- Phoenix\n",
    "- San Francisco\n",
    "\n",
    "Všetky tieto mestá ležia blízko pri sebe na juhozápadnom pobreží Spojených štátov čo znamená, že sa počasie v týchto mestách veľmi nelíši. Počasie je veľmi ovplyvňované Tichým oceánom.\n",
    "\n",
    "Náš dataset obsahuje údaje o priemernej teplote(uvádzané vo Fahrenheitoch) v hodinovách intervaloch. Tieto údaje boli zozbierané počas jedného roka . Pre každé mesto máme 8759 záznamov. \n",
    "\n",
    "V projekte budeme pracovať na predikcií teploty."
   ]
  },
  {
   "cell_type": "code",
   "execution_count": null,
   "metadata": {},
   "outputs": [],
   "source": [
    "import matplotlib as mpl\n",
    "import matplotlib.pyplot as plt\n",
    "import numpy as np\n",
    "import pandas as pd\n",
    "import os\n",
    "import seaborn as sea\n",
    "from scipy.stats import pearsonr, spearmanr\n",
    "from pandas.plotting import scatter_matrix\n",
    "%matplotlib inline"
   ]
  },
  {
   "cell_type": "markdown",
   "metadata": {},
   "source": [
    "## Práca s dátami\n",
    "\n",
    "Vstupné dáta z datasetu importujeme do Pandas dataframu, ktorý využijeme na ďalšiu analýzu. Nižšie môžeme vidieť základné údaje o datasete."
   ]
  },
  {
   "cell_type": "code",
   "execution_count": null,
   "metadata": {},
   "outputs": [],
   "source": [
    "df = pd.read_csv('temperatures.csv')\n",
    "df.shape"
   ]
  },
  {
   "cell_type": "code",
   "execution_count": null,
   "metadata": {},
   "outputs": [],
   "source": [
    "print(df.head)"
   ]
  },
  {
   "cell_type": "code",
   "execution_count": null,
   "metadata": {},
   "outputs": [],
   "source": [
    "df.info()"
   ]
  },
  {
   "cell_type": "markdown",
   "metadata": {},
   "source": [
    "## Základné štatistiky\n",
    "\n",
    "V poliach nižšie môžeme vidieť základné štatistiky o dátach ako minimálne a maximálne hodnoty, priemer, medián a iné.\n",
    "\n",
    "Na údaji o počte riadkov môžeme vidieť, že všetky dátav datasete sú vyplnené a dopĺňanie chýbajúcich hodnôt nebude potrebné.\n",
    "\n",
    "V štatistikách o minimálnych a maximálnych teplotách môžeme vidieť niekoľko zaujímavých faktov. Minimálne teploty vo všetkých troh mestách sú veľmi podobné, medzi 45 a 50 Fahrenheitami. Na druhej strane, maximálne teploty sa líšia o čosi viac. Maximálna teplota vo Phoenixe je o viac ako 30 Fahrenheitov vyššia ako maximálna teplota vo zvyšných dvoch mestách. Phoenix je mesto s najnižšou minimálnou a najvyššou maximálnou teplotou, čo zároveň znamená aj najväčší rozdiel medzi minimálnou a maximálnou teplotou."
   ]
  },
  {
   "cell_type": "code",
   "execution_count": null,
   "metadata": {},
   "outputs": [],
   "source": [
    "df.describe()"
   ]
  },
  {
   "cell_type": "code",
   "execution_count": null,
   "metadata": {},
   "outputs": [],
   "source": [
    "la = df['LA-HLY-TEMP-NORMAL']\n",
    "ph = df['PH-HLY-TEMP-NORMAL']\n",
    "sf = df['SF-HLY-TEMP-NORMAL']"
   ]
  },
  {
   "cell_type": "code",
   "execution_count": null,
   "metadata": {},
   "outputs": [],
   "source": [
    "np.median(la)"
   ]
  },
  {
   "cell_type": "code",
   "execution_count": null,
   "metadata": {},
   "outputs": [],
   "source": [
    "np.median(ph)"
   ]
  },
  {
   "cell_type": "code",
   "execution_count": null,
   "metadata": {},
   "outputs": [],
   "source": [
    "np.median(sf)"
   ]
  },
  {
   "cell_type": "markdown",
   "metadata": {},
   "source": [
    "## Histogramy\n",
    "\n",
    "V histogramoch nižšie môžeme vidieť najčastejšie a najmenej časté teploty počas roka.\n",
    "\n",
    "Môžeme vidieť, že najčastejšie teploty v Los Angeles sa nachádzajú v rozmedzí okolo 65 Fahranheitov. Všetky teploty sú približne medzi 50 až 75 Fahrenheitami.\n",
    "\n",
    "Teploty vo Phoenixe sú najvyššie spomedzi všetkých troch miest. Výskyt jednotlivých teplôt je rozložený rovnomernejšie. Najčastejší výskyt dosahujú teploty medzi 65 až 85 Fahrenheitami.\n",
    "\n",
    "Distribúcia teplôt v San Franciscu je sprava zošikmená. Hodnoty teplôt sú medzi 45 až 75 Fahrenheitemi a najvyšší bod je okolo 55 Fahrenheitov."
   ]
  },
  {
   "cell_type": "markdown",
   "metadata": {},
   "source": [
    "#### Los Angeles"
   ]
  },
  {
   "cell_type": "code",
   "execution_count": null,
   "metadata": {},
   "outputs": [],
   "source": [
    "sea.distplot(la, bins=50)"
   ]
  },
  {
   "cell_type": "markdown",
   "metadata": {},
   "source": [
    "#### Phoenix"
   ]
  },
  {
   "cell_type": "code",
   "execution_count": null,
   "metadata": {},
   "outputs": [],
   "source": [
    "sea.distplot(ph, bins=50)"
   ]
  },
  {
   "cell_type": "markdown",
   "metadata": {},
   "source": [
    "#### San Francisco"
   ]
  },
  {
   "cell_type": "code",
   "execution_count": null,
   "metadata": {},
   "outputs": [],
   "source": [
    "sea.distplot(sf, bins=50)"
   ]
  },
  {
   "cell_type": "markdown",
   "metadata": {},
   "source": [
    "## Korelácie medzi premennými\n",
    "\n",
    "V grafoch a štatistikách nižšie môžeme vidieť korelácie medzi jednotlivými premennými.\n",
    "\n",
    "Všetky tri korelácie sú veľmi silne pozitívne s minimálnou hodnotou 0.85. Najviac pozitívna korelácia je medzi Los Angeles a San Franciscom s magnitúdou takmer 0.95."
   ]
  },
  {
   "cell_type": "markdown",
   "metadata": {},
   "source": [
    "#### Korelácia medzi Los Angeles a Phoenixom"
   ]
  },
  {
   "cell_type": "code",
   "execution_count": null,
   "metadata": {},
   "outputs": [],
   "source": [
    "np.corrcoef(la, ph)"
   ]
  },
  {
   "cell_type": "code",
   "execution_count": null,
   "metadata": {},
   "outputs": [],
   "source": [
    "plt.scatter(la, ph)\n",
    "plt.show()"
   ]
  },
  {
   "cell_type": "markdown",
   "metadata": {},
   "source": [
    "#### Korelácia medzi Los Angeles a San Franciscom"
   ]
  },
  {
   "cell_type": "code",
   "execution_count": null,
   "metadata": {},
   "outputs": [],
   "source": [
    "np.corrcoef(la, sf)"
   ]
  },
  {
   "cell_type": "code",
   "execution_count": null,
   "metadata": {},
   "outputs": [],
   "source": [
    "plt.scatter(la, sf)\n",
    "plt.show()"
   ]
  },
  {
   "cell_type": "markdown",
   "metadata": {},
   "source": [
    "#### Korelácia medzi San Franciscom a Phoenixom"
   ]
  },
  {
   "cell_type": "code",
   "execution_count": null,
   "metadata": {},
   "outputs": [],
   "source": [
    "np.corrcoef(sf, ph)"
   ]
  },
  {
   "cell_type": "code",
   "execution_count": null,
   "metadata": {},
   "outputs": [],
   "source": [
    "plt.scatter(sf, ph)\n",
    "plt.show()"
   ]
  },
  {
   "cell_type": "markdown",
   "metadata": {},
   "source": [
    "#### Porovnanie korelácií všetkých troch miest zároveň"
   ]
  },
  {
   "cell_type": "code",
   "execution_count": null,
   "metadata": {},
   "outputs": [],
   "source": [
    "df.corr()"
   ]
  },
  {
   "cell_type": "code",
   "execution_count": null,
   "metadata": {},
   "outputs": [],
   "source": [
    "scatter_matrix(df, figsize=(10, 10))\n",
    "plt.show()"
   ]
  },
  {
   "cell_type": "markdown",
   "metadata": {},
   "source": [
    "Matica korelácií všetkých troch miest:\n",
    "\n",
    "0 - Los Angeles\n",
    "\n",
    "1 - Phoenix\n",
    "\n",
    "2 - San Francisco"
   ]
  },
  {
   "cell_type": "code",
   "execution_count": null,
   "metadata": {},
   "outputs": [],
   "source": [
    "plt.matshow(df.corr())\n",
    "plt.colorbar()\n",
    "plt.show()"
   ]
  },
  {
   "cell_type": "markdown",
   "metadata": {},
   "source": [
    "## Vychýlené hodnoty\n",
    "\n",
    "Často používaná technika na detekciu vychýlených hodnôt je boxplot diagram. V diagramoch nižšie môžeme vidieť, že v ani jednom z troch miest nie sú vychýlené hodnoty. Rovnaké hodnoty môžeme vidieť na histogramoch vyššie."
   ]
  },
  {
   "cell_type": "markdown",
   "metadata": {},
   "source": [
    "#### Los Angeles"
   ]
  },
  {
   "cell_type": "code",
   "execution_count": null,
   "metadata": {},
   "outputs": [],
   "source": [
    "sea.boxplot(x=la)"
   ]
  },
  {
   "cell_type": "markdown",
   "metadata": {},
   "source": [
    "#### Phoenix"
   ]
  },
  {
   "cell_type": "code",
   "execution_count": null,
   "metadata": {},
   "outputs": [],
   "source": [
    "sea.boxplot(x=ph)"
   ]
  },
  {
   "cell_type": "markdown",
   "metadata": {},
   "source": [
    "#### San Francisco"
   ]
  },
  {
   "cell_type": "code",
   "execution_count": null,
   "metadata": {},
   "outputs": [],
   "source": [
    "sea.boxplot(x=sf)"
   ]
  },
  {
   "cell_type": "markdown",
   "metadata": {},
   "source": [
    "# BOD 3 - Záverečná časť"
   ]
  },
  {
   "cell_type": "markdown",
   "metadata": {},
   "source": [
    "Do záverečnej časti sme sa rozhodli do datasetu pridať ešte údaje zo štvrtého mesta - Las Vegas. Toto mesto svojou geografickou polohou veľmi dobre zapadá medzi ostatné mestá."
   ]
  },
  {
   "cell_type": "code",
   "execution_count": null,
   "metadata": {},
   "outputs": [],
   "source": [
    "las_vegas = pd.read_csv(\"vegas_hourly.csv\")\n",
    "las_vegas.rename(columns={'HLY-TEMP-NORMAL': 'LV-HLY-TEMP-NORMAL'}, inplace=True)\n",
    "los_angeles = pd.read_csv(\"losangeles_hourly.csv\")\n",
    "los_angeles.rename(columns={'HLY-TEMP-NORMAL': 'LA-HLY-TEMP-NORMAL'}, inplace=True)\n",
    "phoenix = pd.read_csv(\"phoenix_hourly.csv\")\n",
    "phoenix.rename(columns={'HLY-TEMP-NORMAL': 'PH-HLY-TEMP-NORMAL'}, inplace=True)\n",
    "san_francisco = pd.read_csv(\"sanfrancisco_hourly.csv\")\n",
    "san_francisco.rename(columns={'HLY-TEMP-NORMAL': 'SF-HLY-TEMP-NORMAL'}, inplace=True)\n",
    "temperatures = pd.concat([las_vegas[['DATE','LV-HLY-TEMP-NORMAL']],los_angeles['LA-HLY-TEMP-NORMAL'],phoenix['PH-HLY-TEMP-NORMAL'],san_francisco['SF-HLY-TEMP-NORMAL']],axis=1,sort=False)\n",
    "temperatures.to_csv('temperatures4.csv',index=False)"
   ]
  },
  {
   "cell_type": "markdown",
   "metadata": {},
   "source": [
    "#### Mestá\n",
    "Na mape sú farebne vyznačené mestá, z ktorých pochádzajú vstupné dáta.\n",
    "![cities](./images/cities.png)"
   ]
  },
  {
   "cell_type": "markdown",
   "metadata": {},
   "source": [
    "Počasie v mestách je pod vplyvom Tichého oceánu čo potvrdzuje nasledovná mapa veterných prúdov v oblasti.\n",
    "![wind](./images/wind.jpg)"
   ]
  },
  {
   "cell_type": "code",
   "execution_count": null,
   "metadata": {},
   "outputs": [],
   "source": [
    "def create_graph(filename):\n",
    "    graph = pd.read_csv(filename,sep=';')\n",
    "    plt.plot(graph.loss[1:], label='loss')\n",
    "    plt.plot(graph.val_loss[1:],c ='r', label='val_loss')\n",
    "    plt.legend(loc='best')\n",
    "    plt.show()\n",
    "    \n",
    "create_graph(\"log_30_11_12-30-04.csv\")"
   ]
  },
  {
   "cell_type": "markdown",
   "metadata": {},
   "source": [
    "## Experimenty\n",
    "\n",
    "Pri každom experimente uvádzame architektúru medelu neurónovej siete, postup pri trénovaní a dosiahnuté výsledky."
   ]
  },
  {
   "cell_type": "markdown",
   "metadata": {},
   "source": [
    "#### Experiment 1\n",
    "\n",
    "Architektúra:\n",
    "\n",
    "Hyperparametre pri trénovaní:\n",
    "\n",
    "Výsedky:\n",
    "\n",
    "Loss funkcie:"
   ]
  },
  {
   "cell_type": "code",
   "execution_count": null,
   "metadata": {},
   "outputs": [],
   "source": [
    "create_graph(\"test1.csv.csv\")"
   ]
  },
  {
   "cell_type": "markdown",
   "metadata": {},
   "source": [
    "#### Experiment \n",
    "\n",
    "Architektúra:\n",
    "\n",
    "Hyperparametre pri trénovaní:\n",
    "\n",
    "Výsedky:\n",
    "\n",
    "Loss funkcie"
   ]
  }
 ],
 "metadata": {
  "kernelspec": {
   "display_name": "Python 3",
   "language": "python",
   "name": "python3"
  },
  "language_info": {
   "codemirror_mode": {
    "name": "ipython",
    "version": 3
   },
   "file_extension": ".py",
   "mimetype": "text/x-python",
   "name": "python",
   "nbconvert_exporter": "python",
   "pygments_lexer": "ipython3",
   "version": "3.6.8"
  }
 },
 "nbformat": 4,
 "nbformat_minor": 2
}
