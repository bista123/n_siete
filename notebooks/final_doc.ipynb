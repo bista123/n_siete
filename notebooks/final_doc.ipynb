{
 "cells": [
  {
   "cell_type": "markdown",
   "metadata": {},
   "source": [
    "# BOD 1 - Návrh zadania"
   ]
  },
  {
   "cell_type": "markdown",
   "metadata": {},
   "source": [
    "## 1. Motivácia\n",
    "Počasie patrí medzi najvýraznejšie faktory, ktoré vplývajú na ľudský život na Zemi. Človek sa odjakživa snažil čo najpresnejšie predpovedať počasie práve kvôli jeho veľkému vplyvu na život každého jedinca. Od predpovedi počasia sú v súčasnosti takisto závislé mnohé odvetvia, či už poľnohospodárstvo, doprava(letecká, lodná), výroba elektrickej energie (veterné elektrárne a solárne panely) a mnohé ďalšie. Z týchto dôvodov je čo najpresnejšia predpoveď počasia veľmi dôležitá.\n",
    "\n",
    "\n",
    "V posledných rokoch sa začala na predpoveď počasia využívať nová technika - predpoveď pomocou neurónových sietí. Pri predpovedi počasia ide prakticky o predikciu časových radov. Kvôli premenlivosti sa počasia sa často na tieto problémy využívajú rekurentné neurónové siete.\n",
    "\n",
    "\n",
    "V našom projekte sme sa rohodli zaoberať predikciou časových radov a teda predpoveďou počasia. Našim cieľom je využiť rekurentné neurónové siete. Budeme pracovať s dátami zo štyroch Amerických miest ležiacich na Juhozápade Spojených štátov:\n",
    "\n",
    "- Los Angeles\n",
    "- San Francisco\n",
    "- Phoenix\n",
    "- Las Vegas\n",
    "\n",
    "## 2. Súvisiaca práca\n",
    "- *Sequence to Sequence Weather Forecasting with Long Short-Term Memory Recurrent Neural Networks 2016*\n",
    "\n",
    "\n",
    "V tejto práci sa autori zaoberajú predikciou počasia pre 9 miest v Maroku. Snažia sa o predpoveď teploty, vlhkosti a rýchlosti vetra na dva časové intervaly - 24 a 72 hodín. Používajú pri tom LSTM neurónové siete, ktoré patria do skupiny rekurentných neurónových sietí.\n",
    "\n",
    "Na natrénovanie modelu neorónovej siete použili približne 15 rokov meteorologických dát, ktoré boli zaznamenané v časovom intervale jednej hodiny. Model dosiahol dobrú úspešnnosť predpovedí, porovnateľnú s úspešnosťou metód, ktoré sa na predpoveď počasia používajú v dnešnej dobe. Hodnoty sú v minutových intervaloch a zaokrúhlené na tri desatinné miesta.\n",
    "\n",
    "Ďalšie práce v tejto oblasti:\n",
    "- *An ensemble of neural networks for weather forecasting 2004*\n",
    "- *An Efficient Weather Forecasting System using Artificial Neural Network 2010*\n",
    "- *Weather Forecasting using Deep Learning Techniques 2015*\n",
    "- *An effective weather forecasting using neural network 2014*\n",
    "\n",
    "\n",
    "## 3. Dataset\n",
    "Dataset obsahuje teplotu zaznamenanú vo vyššie uvedených mestách mestách v hodinových intervaloch počas obdobia jedého roka. Dokopy tak máme 35036 záznamov, 8759 pre každé mesto.\n",
    "\n",
    "Ako bolo uvedené v analýze dát, dáta sú kompletné, neobsahujú chýbajúce hodnoty ani vychýlené hodnoty(outliery).\n",
    "\n",
    "### Príklad dát:\n",
    "![weather](./images/pocasiedata.png)\n",
    "\n",
    "\n",
    "## 4. Návrh riešenia\n",
    "Náš model sa bude skladať z viacvrstvovej rekurentnej neurónovej siete. Túto sieť budeme trénovať na vopred opísanom datasete a chceme aby predikovala teplotu a iné meteorologické dáta na pár dní dopredu."
   ]
  },
  {
   "cell_type": "markdown",
   "metadata": {},
   "source": [
    "# BOD 2 - Analýza dát"
   ]
  },
  {
   "cell_type": "markdown",
   "metadata": {},
   "source": [
    "Náš vstupný dataset sa skladá z dát z troch Amerických miest:\n",
    "\n",
    "- Los Angeles\n",
    "- Phoenix\n",
    "- San Francisco\n",
    "\n",
    "Všetky tieto mestá ležia blízko pri sebe na juhozápadnom pobreží Spojených štátov čo znamená, že sa počasie v týchto mestách veľmi nelíši. Počasie je veľmi ovplyvňované Tichým oceánom.\n",
    "\n",
    "Náš dataset obsahuje údaje o priemernej teplote(uvádzané vo Fahrenheitoch) v hodinovách intervaloch. Tieto údaje boli zozbierané počas jedného roka . Pre každé mesto máme 8759 záznamov. \n",
    "\n",
    "V projekte budeme pracovať na predikcií teploty."
   ]
  },
  {
   "cell_type": "code",
   "execution_count": 2,
   "metadata": {
    "pycharm": {
     "is_executing": false
    }
   },
   "outputs": [],
   "source": [
    "import matplotlib as mpl\n",
    "import matplotlib.pyplot as plt\n",
    "import numpy as np\n",
    "import pandas as pd\n",
    "import os\n",
    "import seaborn as sea\n",
    "from scipy.stats import pearsonr, spearmanr\n",
    "from pandas.plotting import scatter_matrix\n",
    "%matplotlib inline"
   ]
  },
  {
   "cell_type": "markdown",
   "metadata": {},
   "source": [
    "## Práca s dátami\n",
    "\n",
    "Vstupné dáta z datasetu importujeme do Pandas dataframu, ktorý využijeme na ďalšiu analýzu. Nižšie môžeme vidieť základné údaje o datasete."
   ]
  },
  {
   "cell_type": "code",
   "execution_count": 3,
   "metadata": {
    "pycharm": {
     "is_executing": false
    }
   },
   "outputs": [
    {
     "ename": "FileNotFoundError",
     "evalue": "[Errno 2] File b'../data/raw/temperatures.csv' does not exist: b'../data/raw/temperatures.csv'",
     "output_type": "error",
     "traceback": [
      "\u001b[0;31m---------------------------------------------------------------------------\u001b[0m",
      "\u001b[0;31mFileNotFoundError\u001b[0m                         Traceback (most recent call last)",
      "\u001b[0;32m<ipython-input-3-ff7d5bb788b5>\u001b[0m in \u001b[0;36m<module>\u001b[0;34m\u001b[0m\n\u001b[0;32m----> 1\u001b[0;31m \u001b[0mdf\u001b[0m \u001b[0;34m=\u001b[0m \u001b[0mpd\u001b[0m\u001b[0;34m.\u001b[0m\u001b[0mread_csv\u001b[0m\u001b[0;34m(\u001b[0m\u001b[0;34m'../data/raw/temperatures.csv'\u001b[0m\u001b[0;34m)\u001b[0m\u001b[0;34m\u001b[0m\u001b[0;34m\u001b[0m\u001b[0m\n\u001b[0m\u001b[1;32m      2\u001b[0m \u001b[0mdf\u001b[0m\u001b[0;34m.\u001b[0m\u001b[0mshape\u001b[0m\u001b[0;34m\u001b[0m\u001b[0;34m\u001b[0m\u001b[0m\n",
      "\u001b[0;32m~/school/NS/weather_forecast/venv/lib/python3.6/site-packages/pandas/io/parsers.py\u001b[0m in \u001b[0;36mparser_f\u001b[0;34m(filepath_or_buffer, sep, delimiter, header, names, index_col, usecols, squeeze, prefix, mangle_dupe_cols, dtype, engine, converters, true_values, false_values, skipinitialspace, skiprows, skipfooter, nrows, na_values, keep_default_na, na_filter, verbose, skip_blank_lines, parse_dates, infer_datetime_format, keep_date_col, date_parser, dayfirst, cache_dates, iterator, chunksize, compression, thousands, decimal, lineterminator, quotechar, quoting, doublequote, escapechar, comment, encoding, dialect, error_bad_lines, warn_bad_lines, delim_whitespace, low_memory, memory_map, float_precision)\u001b[0m\n\u001b[1;32m    683\u001b[0m         )\n\u001b[1;32m    684\u001b[0m \u001b[0;34m\u001b[0m\u001b[0m\n\u001b[0;32m--> 685\u001b[0;31m         \u001b[0;32mreturn\u001b[0m \u001b[0m_read\u001b[0m\u001b[0;34m(\u001b[0m\u001b[0mfilepath_or_buffer\u001b[0m\u001b[0;34m,\u001b[0m \u001b[0mkwds\u001b[0m\u001b[0;34m)\u001b[0m\u001b[0;34m\u001b[0m\u001b[0;34m\u001b[0m\u001b[0m\n\u001b[0m\u001b[1;32m    686\u001b[0m \u001b[0;34m\u001b[0m\u001b[0m\n\u001b[1;32m    687\u001b[0m     \u001b[0mparser_f\u001b[0m\u001b[0;34m.\u001b[0m\u001b[0m__name__\u001b[0m \u001b[0;34m=\u001b[0m \u001b[0mname\u001b[0m\u001b[0;34m\u001b[0m\u001b[0;34m\u001b[0m\u001b[0m\n",
      "\u001b[0;32m~/school/NS/weather_forecast/venv/lib/python3.6/site-packages/pandas/io/parsers.py\u001b[0m in \u001b[0;36m_read\u001b[0;34m(filepath_or_buffer, kwds)\u001b[0m\n\u001b[1;32m    455\u001b[0m \u001b[0;34m\u001b[0m\u001b[0m\n\u001b[1;32m    456\u001b[0m     \u001b[0;31m# Create the parser.\u001b[0m\u001b[0;34m\u001b[0m\u001b[0;34m\u001b[0m\u001b[0;34m\u001b[0m\u001b[0m\n\u001b[0;32m--> 457\u001b[0;31m     \u001b[0mparser\u001b[0m \u001b[0;34m=\u001b[0m \u001b[0mTextFileReader\u001b[0m\u001b[0;34m(\u001b[0m\u001b[0mfp_or_buf\u001b[0m\u001b[0;34m,\u001b[0m \u001b[0;34m**\u001b[0m\u001b[0mkwds\u001b[0m\u001b[0;34m)\u001b[0m\u001b[0;34m\u001b[0m\u001b[0;34m\u001b[0m\u001b[0m\n\u001b[0m\u001b[1;32m    458\u001b[0m \u001b[0;34m\u001b[0m\u001b[0m\n\u001b[1;32m    459\u001b[0m     \u001b[0;32mif\u001b[0m \u001b[0mchunksize\u001b[0m \u001b[0;32mor\u001b[0m \u001b[0miterator\u001b[0m\u001b[0;34m:\u001b[0m\u001b[0;34m\u001b[0m\u001b[0;34m\u001b[0m\u001b[0m\n",
      "\u001b[0;32m~/school/NS/weather_forecast/venv/lib/python3.6/site-packages/pandas/io/parsers.py\u001b[0m in \u001b[0;36m__init__\u001b[0;34m(self, f, engine, **kwds)\u001b[0m\n\u001b[1;32m    893\u001b[0m             \u001b[0mself\u001b[0m\u001b[0;34m.\u001b[0m\u001b[0moptions\u001b[0m\u001b[0;34m[\u001b[0m\u001b[0;34m\"has_index_names\"\u001b[0m\u001b[0;34m]\u001b[0m \u001b[0;34m=\u001b[0m \u001b[0mkwds\u001b[0m\u001b[0;34m[\u001b[0m\u001b[0;34m\"has_index_names\"\u001b[0m\u001b[0;34m]\u001b[0m\u001b[0;34m\u001b[0m\u001b[0;34m\u001b[0m\u001b[0m\n\u001b[1;32m    894\u001b[0m \u001b[0;34m\u001b[0m\u001b[0m\n\u001b[0;32m--> 895\u001b[0;31m         \u001b[0mself\u001b[0m\u001b[0;34m.\u001b[0m\u001b[0m_make_engine\u001b[0m\u001b[0;34m(\u001b[0m\u001b[0mself\u001b[0m\u001b[0;34m.\u001b[0m\u001b[0mengine\u001b[0m\u001b[0;34m)\u001b[0m\u001b[0;34m\u001b[0m\u001b[0;34m\u001b[0m\u001b[0m\n\u001b[0m\u001b[1;32m    896\u001b[0m \u001b[0;34m\u001b[0m\u001b[0m\n\u001b[1;32m    897\u001b[0m     \u001b[0;32mdef\u001b[0m \u001b[0mclose\u001b[0m\u001b[0;34m(\u001b[0m\u001b[0mself\u001b[0m\u001b[0;34m)\u001b[0m\u001b[0;34m:\u001b[0m\u001b[0;34m\u001b[0m\u001b[0;34m\u001b[0m\u001b[0m\n",
      "\u001b[0;32m~/school/NS/weather_forecast/venv/lib/python3.6/site-packages/pandas/io/parsers.py\u001b[0m in \u001b[0;36m_make_engine\u001b[0;34m(self, engine)\u001b[0m\n\u001b[1;32m   1133\u001b[0m     \u001b[0;32mdef\u001b[0m \u001b[0m_make_engine\u001b[0m\u001b[0;34m(\u001b[0m\u001b[0mself\u001b[0m\u001b[0;34m,\u001b[0m \u001b[0mengine\u001b[0m\u001b[0;34m=\u001b[0m\u001b[0;34m\"c\"\u001b[0m\u001b[0;34m)\u001b[0m\u001b[0;34m:\u001b[0m\u001b[0;34m\u001b[0m\u001b[0;34m\u001b[0m\u001b[0m\n\u001b[1;32m   1134\u001b[0m         \u001b[0;32mif\u001b[0m \u001b[0mengine\u001b[0m \u001b[0;34m==\u001b[0m \u001b[0;34m\"c\"\u001b[0m\u001b[0;34m:\u001b[0m\u001b[0;34m\u001b[0m\u001b[0;34m\u001b[0m\u001b[0m\n\u001b[0;32m-> 1135\u001b[0;31m             \u001b[0mself\u001b[0m\u001b[0;34m.\u001b[0m\u001b[0m_engine\u001b[0m \u001b[0;34m=\u001b[0m \u001b[0mCParserWrapper\u001b[0m\u001b[0;34m(\u001b[0m\u001b[0mself\u001b[0m\u001b[0;34m.\u001b[0m\u001b[0mf\u001b[0m\u001b[0;34m,\u001b[0m \u001b[0;34m**\u001b[0m\u001b[0mself\u001b[0m\u001b[0;34m.\u001b[0m\u001b[0moptions\u001b[0m\u001b[0;34m)\u001b[0m\u001b[0;34m\u001b[0m\u001b[0;34m\u001b[0m\u001b[0m\n\u001b[0m\u001b[1;32m   1136\u001b[0m         \u001b[0;32melse\u001b[0m\u001b[0;34m:\u001b[0m\u001b[0;34m\u001b[0m\u001b[0;34m\u001b[0m\u001b[0m\n\u001b[1;32m   1137\u001b[0m             \u001b[0;32mif\u001b[0m \u001b[0mengine\u001b[0m \u001b[0;34m==\u001b[0m \u001b[0;34m\"python\"\u001b[0m\u001b[0;34m:\u001b[0m\u001b[0;34m\u001b[0m\u001b[0;34m\u001b[0m\u001b[0m\n",
      "\u001b[0;32m~/school/NS/weather_forecast/venv/lib/python3.6/site-packages/pandas/io/parsers.py\u001b[0m in \u001b[0;36m__init__\u001b[0;34m(self, src, **kwds)\u001b[0m\n\u001b[1;32m   1915\u001b[0m         \u001b[0mkwds\u001b[0m\u001b[0;34m[\u001b[0m\u001b[0;34m\"usecols\"\u001b[0m\u001b[0;34m]\u001b[0m \u001b[0;34m=\u001b[0m \u001b[0mself\u001b[0m\u001b[0;34m.\u001b[0m\u001b[0musecols\u001b[0m\u001b[0;34m\u001b[0m\u001b[0;34m\u001b[0m\u001b[0m\n\u001b[1;32m   1916\u001b[0m \u001b[0;34m\u001b[0m\u001b[0m\n\u001b[0;32m-> 1917\u001b[0;31m         \u001b[0mself\u001b[0m\u001b[0;34m.\u001b[0m\u001b[0m_reader\u001b[0m \u001b[0;34m=\u001b[0m \u001b[0mparsers\u001b[0m\u001b[0;34m.\u001b[0m\u001b[0mTextReader\u001b[0m\u001b[0;34m(\u001b[0m\u001b[0msrc\u001b[0m\u001b[0;34m,\u001b[0m \u001b[0;34m**\u001b[0m\u001b[0mkwds\u001b[0m\u001b[0;34m)\u001b[0m\u001b[0;34m\u001b[0m\u001b[0;34m\u001b[0m\u001b[0m\n\u001b[0m\u001b[1;32m   1918\u001b[0m         \u001b[0mself\u001b[0m\u001b[0;34m.\u001b[0m\u001b[0munnamed_cols\u001b[0m \u001b[0;34m=\u001b[0m \u001b[0mself\u001b[0m\u001b[0;34m.\u001b[0m\u001b[0m_reader\u001b[0m\u001b[0;34m.\u001b[0m\u001b[0munnamed_cols\u001b[0m\u001b[0;34m\u001b[0m\u001b[0;34m\u001b[0m\u001b[0m\n\u001b[1;32m   1919\u001b[0m \u001b[0;34m\u001b[0m\u001b[0m\n",
      "\u001b[0;32mpandas/_libs/parsers.pyx\u001b[0m in \u001b[0;36mpandas._libs.parsers.TextReader.__cinit__\u001b[0;34m()\u001b[0m\n",
      "\u001b[0;32mpandas/_libs/parsers.pyx\u001b[0m in \u001b[0;36mpandas._libs.parsers.TextReader._setup_parser_source\u001b[0;34m()\u001b[0m\n",
      "\u001b[0;31mFileNotFoundError\u001b[0m: [Errno 2] File b'../data/raw/temperatures.csv' does not exist: b'../data/raw/temperatures.csv'"
     ]
    }
   ],
   "source": [
    "df = pd.read_csv('../data/raw/temperatures.csv')\n",
    "df.shape"
   ]
  },
  {
   "cell_type": "code",
   "execution_count": null,
   "metadata": {
    "pycharm": {
     "is_executing": false
    }
   },
   "outputs": [],
   "source": [
    "df.head()"
   ]
  },
  {
   "cell_type": "code",
   "execution_count": null,
   "metadata": {
    "pycharm": {
     "is_executing": false
    }
   },
   "outputs": [],
   "source": [
    "df.info()"
   ]
  },
  {
   "cell_type": "markdown",
   "metadata": {},
   "source": [
    "## Základné štatistiky\n",
    "\n",
    "V poliach nižšie môžeme vidieť základné štatistiky o dátach ako minimálne a maximálne hodnoty, priemer, medián a iné.\n",
    "\n",
    "Na údaji o počte riadkov môžeme vidieť, že všetky dátav datasete sú vyplnené a dopĺňanie chýbajúcich hodnôt nebude potrebné.\n",
    "\n",
    "V štatistikách o minimálnych a maximálnych teplotách môžeme vidieť niekoľko zaujímavých faktov. Minimálne teploty vo všetkých troh mestách sú veľmi podobné, medzi 45 a 50 Fahrenheitami. Na druhej strane, maximálne teploty sa líšia o čosi viac. Maximálna teplota vo Phoenixe je o viac ako 30 Fahrenheitov vyššia ako maximálna teplota vo zvyšných dvoch mestách. Phoenix je mesto s najnižšou minimálnou a najvyššou maximálnou teplotou, čo zároveň znamená aj najväčší rozdiel medzi minimálnou a maximálnou teplotou."
   ]
  },
  {
   "cell_type": "code",
   "execution_count": null,
   "metadata": {
    "pycharm": {
     "is_executing": false
    }
   },
   "outputs": [],
   "source": [
    "df.describe()"
   ]
  },
  {
   "cell_type": "code",
   "execution_count": null,
   "metadata": {
    "pycharm": {
     "is_executing": false
    }
   },
   "outputs": [],
   "source": [
    "la = df['LA-HLY-TEMP-NORMAL']\n",
    "ph = df['PH-HLY-TEMP-NORMAL']\n",
    "sf = df['SF-HLY-TEMP-NORMAL']"
   ]
  },
  {
   "cell_type": "code",
   "execution_count": null,
   "metadata": {
    "pycharm": {
     "is_executing": false
    }
   },
   "outputs": [],
   "source": [
    "np.median(la)"
   ]
  },
  {
   "cell_type": "code",
   "execution_count": null,
   "metadata": {
    "pycharm": {
     "is_executing": false
    }
   },
   "outputs": [],
   "source": [
    "np.median(ph)"
   ]
  },
  {
   "cell_type": "code",
   "execution_count": null,
   "metadata": {
    "pycharm": {
     "is_executing": false
    }
   },
   "outputs": [],
   "source": [
    "np.median(sf)"
   ]
  },
  {
   "cell_type": "markdown",
   "metadata": {},
   "source": [
    "## Histogramy\n",
    "\n",
    "V histogramoch nižšie môžeme vidieť najčastejšie a najmenej časté teploty počas roka.\n",
    "\n",
    "Môžeme vidieť, že najčastejšie teploty v Los Angeles sa nachádzajú v rozmedzí okolo 65 Fahranheitov. Všetky teploty sú približne medzi 50 až 75 Fahrenheitami.\n",
    "\n",
    "Teploty vo Phoenixe sú najvyššie spomedzi všetkých troch miest. Výskyt jednotlivých teplôt je rozložený rovnomernejšie. Najčastejší výskyt dosahujú teploty medzi 65 až 85 Fahrenheitami.\n",
    "\n",
    "Distribúcia teplôt v San Franciscu je sprava zošikmená. Hodnoty teplôt sú medzi 45 až 75 Fahrenheitemi a najvyšší bod je okolo 55 Fahrenheitov."
   ]
  },
  {
   "cell_type": "markdown",
   "metadata": {},
   "source": [
    "#### Los Angeles"
   ]
  },
  {
   "cell_type": "code",
   "execution_count": null,
   "metadata": {
    "pycharm": {
     "is_executing": false
    }
   },
   "outputs": [],
   "source": [
    "sea.distplot(la, bins=50)"
   ]
  },
  {
   "cell_type": "markdown",
   "metadata": {},
   "source": [
    "#### Phoenix"
   ]
  },
  {
   "cell_type": "code",
   "execution_count": null,
   "metadata": {
    "pycharm": {
     "is_executing": false
    }
   },
   "outputs": [],
   "source": [
    "sea.distplot(ph, bins=50)"
   ]
  },
  {
   "cell_type": "markdown",
   "metadata": {},
   "source": [
    "#### San Francisco"
   ]
  },
  {
   "cell_type": "code",
   "execution_count": null,
   "metadata": {
    "pycharm": {
     "is_executing": false
    }
   },
   "outputs": [],
   "source": [
    "sea.distplot(sf, bins=50)"
   ]
  },
  {
   "cell_type": "markdown",
   "metadata": {},
   "source": [
    "## Korelácie medzi premennými\n",
    "\n",
    "V grafoch a štatistikách nižšie môžeme vidieť korelácie medzi jednotlivými premennými.\n",
    "\n",
    "Všetky tri korelácie sú veľmi silne pozitívne s minimálnou hodnotou 0.85. Najviac pozitívna korelácia je medzi Los Angeles a San Franciscom s magnitúdou takmer 0.95."
   ]
  },
  {
   "cell_type": "markdown",
   "metadata": {},
   "source": [
    "#### Korelácia medzi Los Angeles a Phoenixom"
   ]
  },
  {
   "cell_type": "code",
   "execution_count": null,
   "metadata": {
    "pycharm": {
     "is_executing": false
    }
   },
   "outputs": [],
   "source": [
    "np.corrcoef(la, ph)"
   ]
  },
  {
   "cell_type": "code",
   "execution_count": null,
   "metadata": {
    "pycharm": {
     "is_executing": false
    }
   },
   "outputs": [],
   "source": [
    "plt.scatter(la, ph)\n",
    "plt.show()"
   ]
  },
  {
   "cell_type": "markdown",
   "metadata": {},
   "source": [
    "#### Korelácia medzi Los Angeles a San Franciscom"
   ]
  },
  {
   "cell_type": "code",
   "execution_count": null,
   "metadata": {
    "pycharm": {
     "is_executing": false
    }
   },
   "outputs": [],
   "source": [
    "np.corrcoef(la, sf)"
   ]
  },
  {
   "cell_type": "code",
   "execution_count": null,
   "metadata": {
    "pycharm": {
     "is_executing": false
    }
   },
   "outputs": [],
   "source": [
    "plt.scatter(la, sf)\n",
    "plt.show()"
   ]
  },
  {
   "cell_type": "markdown",
   "metadata": {},
   "source": [
    "#### Korelácia medzi San Franciscom a Phoenixom"
   ]
  },
  {
   "cell_type": "code",
   "execution_count": null,
   "metadata": {
    "pycharm": {
     "is_executing": false
    }
   },
   "outputs": [],
   "source": [
    "np.corrcoef(sf, ph)"
   ]
  },
  {
   "cell_type": "code",
   "execution_count": null,
   "metadata": {
    "pycharm": {
     "is_executing": false
    }
   },
   "outputs": [],
   "source": [
    "plt.scatter(sf, ph)\n",
    "plt.show()"
   ]
  },
  {
   "cell_type": "markdown",
   "metadata": {},
   "source": [
    "#### Porovnanie korelácií všetkých troch miest zároveň"
   ]
  },
  {
   "cell_type": "code",
   "execution_count": null,
   "metadata": {
    "pycharm": {
     "is_executing": false
    }
   },
   "outputs": [],
   "source": [
    "df.corr()"
   ]
  },
  {
   "cell_type": "code",
   "execution_count": null,
   "metadata": {
    "pycharm": {
     "is_executing": false
    }
   },
   "outputs": [],
   "source": [
    "scatter_matrix(df, figsize=(10, 10))\n",
    "plt.show()"
   ]
  },
  {
   "cell_type": "markdown",
   "metadata": {},
   "source": [
    "Matica korelácií všetkých troch miest:\n",
    "\n",
    "0 - Los Angeles\n",
    "\n",
    "1 - Phoenix\n",
    "\n",
    "2 - San Francisco"
   ]
  },
  {
   "cell_type": "code",
   "execution_count": null,
   "metadata": {
    "pycharm": {
     "is_executing": false
    }
   },
   "outputs": [],
   "source": [
    "plt.matshow(df.corr())\n",
    "plt.colorbar()\n",
    "plt.show()"
   ]
  },
  {
   "cell_type": "markdown",
   "metadata": {},
   "source": [
    "## Vychýlené hodnoty\n",
    "\n",
    "Často používaná technika na detekciu vychýlených hodnôt je boxplot diagram. V diagramoch nižšie môžeme vidieť, že v ani jednom z troch miest nie sú vychýlené hodnoty. Rovnaké hodnoty môžeme vidieť na histogramoch vyššie."
   ]
  },
  {
   "cell_type": "markdown",
   "metadata": {},
   "source": [
    "#### Los Angeles"
   ]
  },
  {
   "cell_type": "code",
   "execution_count": null,
   "metadata": {
    "pycharm": {
     "is_executing": false
    }
   },
   "outputs": [],
   "source": [
    "sea.boxplot(x=la)"
   ]
  },
  {
   "cell_type": "markdown",
   "metadata": {},
   "source": [
    "#### Phoenix"
   ]
  },
  {
   "cell_type": "code",
   "execution_count": null,
   "metadata": {
    "pycharm": {
     "is_executing": false
    }
   },
   "outputs": [],
   "source": [
    "sea.boxplot(x=ph)"
   ]
  },
  {
   "cell_type": "markdown",
   "metadata": {},
   "source": [
    "#### San Francisco"
   ]
  },
  {
   "cell_type": "code",
   "execution_count": null,
   "metadata": {
    "pycharm": {
     "is_executing": false
    }
   },
   "outputs": [],
   "source": [
    "sea.boxplot(x=sf)"
   ]
  },
  {
   "cell_type": "markdown",
   "metadata": {},
   "source": [
    "# BOD 3 - Záverečná časť"
   ]
  },
  {
   "cell_type": "markdown",
   "metadata": {},
   "source": [
    "Do záverečnej časti sme sa rozhodli do datasetu pridať ešte údaje zo štvrtého mesta - Las Vegas. Toto mesto svojou geografickou polohou veľmi dobre zapadá medzi ostatné mestá."
   ]
  },
  {
   "cell_type": "code",
   "execution_count": null,
   "metadata": {
    "pycharm": {
     "is_executing": false
    }
   },
   "outputs": [],
   "source": [
    "las_vegas = pd.read_csv(\"../data/raw/vegas_hourly.csv\")\n",
    "las_vegas.rename(columns={'HLY-TEMP-NORMAL': 'LV-HLY-TEMP-NORMAL'}, inplace=True)\n",
    "los_angeles = pd.read_csv(\"../data/raw/losangeles_hourly.csv\")\n",
    "los_angeles.rename(columns={'HLY-TEMP-NORMAL': 'LA-HLY-TEMP-NORMAL'}, inplace=True)\n",
    "phoenix = pd.read_csv(\"../data/raw/phoenix_hourly.csv\")\n",
    "phoenix.rename(columns={'HLY-TEMP-NORMAL': 'PH-HLY-TEMP-NORMAL'}, inplace=True)\n",
    "san_francisco = pd.read_csv(\"../data/raw/sanfrancisco_hourly.csv\")\n",
    "san_francisco.rename(columns={'HLY-TEMP-NORMAL': 'SF-HLY-TEMP-NORMAL'}, inplace=True)\n",
    "temperatures = pd.concat([las_vegas[['DATE','LV-HLY-TEMP-NORMAL']],los_angeles['LA-HLY-TEMP-NORMAL'],phoenix['PH-HLY-TEMP-NORMAL'],san_francisco['SF-HLY-TEMP-NORMAL']],axis=1,sort=False)\n",
    "temperatures.to_csv('../data/raw/temperatures4.csv',index=False)"
   ]
  },
  {
   "cell_type": "markdown",
   "metadata": {},
   "source": [
    "#### Mestá\n",
    "Na mape sú farebne vyznačené mestá, z ktorých pochádzajú vstupné dáta.\n",
    "![cities](./cities.png)"
   ]
  },
  {
   "cell_type": "markdown",
   "metadata": {},
   "source": [
    "Počasie v mestách je pod vplyvom Tichého oceánu čo potvrdzuje nasledovná mapa veterných prúdov v oblasti.\n",
    "![wind](./wind.jpg)"
   ]
  },
  {
   "cell_type": "code",
   "execution_count": null,
   "metadata": {
    "pycharm": {
     "is_executing": false
    }
   },
   "outputs": [],
   "source": [
    "def create_graph(filename, shift):\n",
    "    graph = pd.read_csv(filename,sep=';')\n",
    "    plt.plot(graph.loss[shift:], label='loss')\n",
    "    plt.plot(graph.val_loss[shift:],c ='r', label='val_loss')\n",
    "    plt.legend(loc='best')\n",
    "    plt.title(\"Graf loss funkcií:\")\n",
    "    plt.show()"
   ]
  },
  {
   "cell_type": "markdown",
   "metadata": {},
   "source": [
    "## Experimenty\n",
    "\n",
    "Našimi experimentami sme sa postupne snažili nájsť najoptimálnejšiu archhitektúru a nastavenie hyperparametrov na predikovanie teploty v meste Los Angeles. \n",
    "\n",
    "Pri každom experimente uvádzame architektúru medelu neurónovej siete, postup pri trénovaní a dosiahnuté výsledky.\n",
    "\n",
    "V experimentoch 0 - 5 bol model trénovaný na datasete s troma mestami - Los Angeles, San Francisco a Phoenix. Od experimentu 6 sme pridali aj dáta zo štvrtého mesta - Las Vegas."
   ]
  },
  {
   "cell_type": "markdown",
   "metadata": {},
   "source": [
    "#### Experiment 0 - baseline\n",
    "\n",
    "Tento experiment bol použitý pri prvom odovzdaní. Predikovali sme 12 hodín na základe piatich dní. Výsledky tohto experimentu mali približne 98% úspešnosť(mse).\n",
    "\n",
    "Architektúra:\n",
    "![arch0](./testy/test0/architektura0.png)"
   ]
  },
  {
   "cell_type": "markdown",
   "metadata": {},
   "source": [
    "Hyperparametre pri trénovaní:\n",
    "\n",
    "- Epochs - 15\n",
    "- Batch size - 200\n",
    "- Activation function - ReLU\n",
    "- Optimizer - Adam\n",
    "- Loss function - Mean squared error"
   ]
  },
  {
   "cell_type": "code",
   "execution_count": null,
   "metadata": {
    "pycharm": {
     "is_executing": false
    }
   },
   "outputs": [],
   "source": [
    "create_graph(\"./testy/test0/test0.csv\", 1)"
   ]
  },
  {
   "cell_type": "markdown",
   "metadata": {},
   "source": [
    "Výsledky:\n",
    "![test0](./testy/test0/test0.png)"
   ]
  },
  {
   "cell_type": "markdown",
   "metadata": {},
   "source": [
    "#### Experiment 1\n",
    "\n",
    "V tomto experimente sme chceli otestovať či náš model bude schopný predikovať aj dlhšie časové obdobie. Predikovali sme obdobie dvoch dní na základe predchádzajúcich 10 dní. Výsledky tohto experimentu mali približne 99% úspešnosť(mse).\n",
    "\n",
    "Architektúra:\n",
    "![arch1](./testy/test1/architektura01.png)"
   ]
  },
  {
   "cell_type": "markdown",
   "metadata": {},
   "source": [
    "Hyperparametre pri trénovaní:\n",
    "\n",
    "- Epochs - 15\n",
    "- Batch size - 200\n",
    "- Activation function - ReLU\n",
    "- Optimizer - Adam\n",
    "- Loss function - Mean squared error\n",
    "\n",
    "V tomto experimente a aj v experimente 2 sme vyskúšali aktivačnú funkciu Tanh. V oboch prípadoch boli ale výsledky horšie ako v prípade ReLU funkcie."
   ]
  },
  {
   "cell_type": "code",
   "execution_count": null,
   "metadata": {
    "pycharm": {
     "is_executing": false
    }
   },
   "outputs": [],
   "source": [
    "create_graph(\"./testy/test1/test1.csv\", 1)"
   ]
  },
  {
   "cell_type": "markdown",
   "metadata": {},
   "source": [
    "Výsledky:\n",
    "![test1](./testy/test1/test1.png)"
   ]
  },
  {
   "cell_type": "markdown",
   "metadata": {},
   "source": [
    "#### Experiment 2\n",
    "\n",
    "V tomto experimente sme zmenili architektúru siete a pridali sme jednu LSTM vrstvu medzi existujúce dve vrstvy. Opäť sme predikovali 2 dni na základe 14 dní. Všetky ďalšie experimenty budú predikované na 2 dni na základe posledných 14 dní. Výsledky tohto experimentu mali približne 97% úspešnosť(mse).\n",
    "\n",
    "Architektúra:\n",
    "![arch2](./testy/test2/architektura2.png)"
   ]
  },
  {
   "cell_type": "markdown",
   "metadata": {},
   "source": [
    "Hyperparametre pri trénovaní:\n",
    "\n",
    "- Epochs - 15\n",
    "- Batch size - 200\n",
    "- Activation function - ReLU\n",
    "- Optimizer - Adam\n",
    "- Loss function - Mean squared error\n",
    "\n",
    "    "
   ]
  },
  {
   "cell_type": "code",
   "execution_count": null,
   "metadata": {
    "pycharm": {
     "is_executing": false
    }
   },
   "outputs": [],
   "source": [
    "create_graph(\"./testy/test2/test2.csv\", 0)"
   ]
  },
  {
   "cell_type": "markdown",
   "metadata": {},
   "source": [
    "Výsledky:\n",
    "![test2](./testy/test2/test2.png)"
   ]
  },
  {
   "cell_type": "markdown",
   "metadata": {},
   "source": [
    "#### Experiment 3\n",
    "\n",
    "V tomto experimente sme zachovali arcitektúru modelu Zároveň sme optimalizovali príliš vysoký batch size z 200 na 80. V ďalších experimentov budeme používať tento batch size. Výsledky tohto experimentu mali približne 98% úspešnosť(mse).\n",
    "\n",
    "Architektúra:\n",
    "![arch3](./testy/test3/architektura3.png)"
   ]
  },
  {
   "cell_type": "markdown",
   "metadata": {},
   "source": [
    "Hyperparametre pri trénovaní:\n",
    "\n",
    "- Epochs - 15\n",
    "- Batch size - 80\n",
    "- Activation function - ReLU\n",
    "- Optimizer - Adam\n",
    "- Loss function - Mean squared error\n"
   ]
  },
  {
   "cell_type": "code",
   "execution_count": null,
   "metadata": {
    "pycharm": {
     "is_executing": false
    }
   },
   "outputs": [],
   "source": [
    "create_graph(\"./testy/test3/test3.csv\", 0)"
   ]
  },
  {
   "cell_type": "markdown",
   "metadata": {},
   "source": [
    "Výsledky:\n",
    "![test3](./testy/test3/test3.png)"
   ]
  },
  {
   "cell_type": "markdown",
   "metadata": {},
   "source": [
    "#### Experiment 4\n",
    "\n",
    "V tomto experimente sme sa prvý krát rozhodli pre využitie GRU vrstiev. Konkrétne sme využili 2 GRU vrstvy s aktiváciou ReLU. Výsledky tohto experimentu mali približne 99% úspešnosť(mse).\n",
    "\n",
    "Architektúra:\n",
    "![arch4](./testy/test4/architektura4.png)"
   ]
  },
  {
   "cell_type": "markdown",
   "metadata": {},
   "source": [
    "Hyperparametre pri trénovaní:\n",
    "    \n",
    "- Epochs - 15\n",
    "- Batch size - 80\n",
    "- Activation function - ReLU\n",
    "- Optimizer - Adam\n",
    "- Loss function - Mean squared error"
   ]
  },
  {
   "cell_type": "code",
   "execution_count": null,
   "metadata": {
    "pycharm": {
     "is_executing": false
    }
   },
   "outputs": [],
   "source": [
    "create_graph(\"./testy/test4/test4.csv\", 0)"
   ]
  },
  {
   "cell_type": "markdown",
   "metadata": {},
   "source": [
    "Výsledky:\n",
    "![test4](./testy/test4/test4.png)"
   ]
  },
  {
   "cell_type": "markdown",
   "metadata": {},
   "source": [
    "#### Experiment 5\n",
    "\n",
    "Do pôvodnej architektúry sme pridali jednu GRU vrstvu navyše. Výsledky tohto experimentu mali približne 98% úspešnosť(mse).\n",
    "\n",
    "Architektúra:\n",
    "![arch5](./testy/test5/architektura5.png)"
   ]
  },
  {
   "cell_type": "markdown",
   "metadata": {},
   "source": [
    "Hyperparametre pri trénovaní:\n",
    "        \n",
    "- Epochs - 15\n",
    "- Batch size - 80\n",
    "- Activation function - ReLU\n",
    "- Optimizer - Adam\n",
    "- Loss function - Mean squared error"
   ]
  },
  {
   "cell_type": "code",
   "execution_count": null,
   "metadata": {
    "pycharm": {
     "is_executing": false
    }
   },
   "outputs": [],
   "source": [
    "create_graph(\"./testy/test5/test5.csv\", 0)"
   ]
  },
  {
   "cell_type": "markdown",
   "metadata": {},
   "source": [
    "Výsledky:\n",
    "![test5](./testy/test5/test5.png)"
   ]
  },
  {
   "cell_type": "markdown",
   "metadata": {},
   "source": [
    "#### Experiment 6\n",
    "\n",
    "V tomto experimente sme využili rovnakú architektúru siete ako vo štvrtom experimente. Prvý krát sme ale využili dataset so všetkými štyrmi mestami. Tento dataset budeme používať aj vo všetkých ďalších experimentoch. Výsledky tohto experimentu mali približne 99% úspešnosť(mse).\n",
    "\n",
    "Architektúra:\n",
    "![arch6](./testy/test6/architektura6.png)"
   ]
  },
  {
   "cell_type": "markdown",
   "metadata": {},
   "source": [
    "Hyperparametre pri trénovaní:\n",
    "    \n",
    "- Epochs - 15\n",
    "- Batch size - 80\n",
    "- Activation function - ReLU\n",
    "- Optimizer - Adam\n",
    "- Loss function - Mean squared error"
   ]
  },
  {
   "cell_type": "code",
   "execution_count": null,
   "metadata": {
    "pycharm": {
     "is_executing": false
    }
   },
   "outputs": [],
   "source": [
    "create_graph(\"./testy/test6/test6.csv\", 0)"
   ]
  },
  {
   "cell_type": "markdown",
   "metadata": {},
   "source": [
    "Výsledky:\n",
    "![test6](./testy/test6/test6.png)"
   ]
  },
  {
   "cell_type": "markdown",
   "metadata": {},
   "source": [
    "#### Experiment 7\n",
    "\n",
    "V siedmom experimente sme vyskúšali už predtým využitú architektúru s dvoma LSTM vrstvami na datasete so štyrmi mestami. Výsledky tohto experimentu mali približne 98% úspešnosť(mse).\n",
    "\n",
    "Architektúra:\n",
    "![arch7](./testy/test7/architektura7.png)"
   ]
  },
  {
   "cell_type": "markdown",
   "metadata": {},
   "source": [
    "Hyperparametre pri trénovaní:\n",
    "    \n",
    "- Epochs - 15\n",
    "- Batch size - 80\n",
    "- Activation function - ReLU\n",
    "- Optimizer - Adam\n",
    "- Loss function - Mean squared error"
   ]
  },
  {
   "cell_type": "code",
   "execution_count": null,
   "metadata": {
    "pycharm": {
     "is_executing": false
    }
   },
   "outputs": [],
   "source": [
    "create_graph(\"./testy/test7/test7.csv\", 0)"
   ]
  },
  {
   "cell_type": "markdown",
   "metadata": {},
   "source": [
    "Výsledky:\n",
    "![test7](./testy/test7/test7.png)"
   ]
  },
  {
   "cell_type": "markdown",
   "metadata": {},
   "source": [
    "#### Experiment 8\n",
    "\n",
    "Do tohto testu sme k dvom LSTM vrsvám pridali opäť ešte jednu lstm vrstvu navyše. Navýšili se aj počet epoch na 20. Výsledky tohto experimentu mali približne 98.6% úspešnosť(mse).\n",
    "\n",
    "Architektúra:\n",
    "![arch8](./testy/test8/architektura8.png)"
   ]
  },
  {
   "cell_type": "markdown",
   "metadata": {},
   "source": [
    "Hyperparametre pri trénovaní:\n",
    "    \n",
    "- Epochs - 20\n",
    "- Batch size - 80\n",
    "- Activation function - ReLU\n",
    "- Optimizer - Adam\n",
    "- Loss function - Mean squared error"
   ]
  },
  {
   "cell_type": "code",
   "execution_count": null,
   "metadata": {
    "pycharm": {
     "is_executing": false
    }
   },
   "outputs": [],
   "source": [
    "create_graph(\"./testy/test8/test8.csv\", 0)"
   ]
  },
  {
   "cell_type": "markdown",
   "metadata": {},
   "source": [
    "Výsledky:\n",
    "![test8](./testy/test8/test8.png)"
   ]
  },
  {
   "cell_type": "markdown",
   "metadata": {},
   "source": [
    "## Zhodnotenie a záver\n",
    "\n",
    "V tomto projekte sme sa snažili čo najlepšie predpovedať templotu v meste Los Angeles. Rozhodli sme sa na tento problém využiť rekurentné neurónové siete, do ktorých sme ako vstupné dáta použili teploty zo štyoch miest(Los Angeles, Phoenix, San Francisco a Las Vegas). \n",
    "\n",
    "Robili sme viacej experimentov, pri ktorých sme sa snažili nájsť čo najlepšiu architektúru a nastavenie hyperparametrov. Najskôr sme vytvorili takzvaný \"base-line\" model, ktorým sme dokázali, že rekurentné neurónové siete dokážu riešiť takéto problémy. Tento model aj s výsledkami je bližšie popísaný v kapitole Experiment 0. \n",
    "\n",
    "Postupne sme v našich ďalších experimentov zvyšovali počet dní, ktoré sme predikovali. Keďže sme zvyšovali náročnosť problému museli sme mierne upraviť architektúru a hyperparametre, aby sa sieť dokázala dostatočne dobre učiť. Tieto experimenty sú tiež opísané vyššie v dokumente. Vyskúšali sme rôzne nastavenia, v niektorých experimentoch sme pridali miesto troch miest na vstupe štyri, v iných sme zase testovalí iný typ rekurentnej siete(GRU). \n",
    "\n",
    "Našimi experimentami sme zistili, že nájsť optimálne riešenie nie je až také jednoduché, a aj keď sa môže zdať, že sieť má veľmi dobré výsledky, je veľmi diskutabilné, či sa dokáže priblížiť k výsledkom meteorológov."
   ]
  }
 ],
 "metadata": {
  "kernelspec": {
   "display_name": "Python 3",
   "language": "python",
   "name": "python3"
  },
  "language_info": {
   "codemirror_mode": {
    "name": "ipython",
    "version": 3
   },
   "file_extension": ".py",
   "mimetype": "text/x-python",
   "name": "python",
   "nbconvert_exporter": "python",
   "pygments_lexer": "ipython3",
   "version": "3.6.8"
  },
  "pycharm": {
   "stem_cell": {
    "cell_type": "raw",
    "metadata": {
     "collapsed": false
    },
    "source": []
   }
  }
 },
 "nbformat": 4,
 "nbformat_minor": 2
}
