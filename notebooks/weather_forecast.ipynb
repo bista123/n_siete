{
 "nbformat": 4,
 "nbformat_minor": 0,
 "metadata": {
  "kernelspec": {
   "name": "python3",
   "display_name": "Python 3"
  },
  "language_info": {
   "codemirror_mode": {
    "name": "ipython",
    "version": 2
   },
   "file_extension": ".py",
   "mimetype": "text/x-python",
   "name": "python",
   "nbconvert_exporter": "python",
   "pygments_lexer": "ipython2",
   "version": "2.7.6"
  },
  "colab": {
   "name": "weather_forecast.ipynb",
   "provenance": [],
   "collapsed_sections": []
  },
  "accelerator": "GPU",
  "pycharm": {
   "stem_cell": {
    "cell_type": "raw",
    "source": [],
    "metadata": {
     "collapsed": false
    }
   }
  }
 },
 "cells": [
  {
   "cell_type": "markdown",
   "metadata": {
    "id": "xNx7Fd2R2JHM",
    "colab_type": "text"
   },
   "source": [
    "# Network architecture:\n",
    "\n",
    "![diagram](https://i.imgur.com/Ky2W2k9.jpg)\n",
    "<!-- ![diagram](/content/drive/My Drive/weather_forecast/notebooks/diagram.jpg) -->"
   ]
  },
  {
   "cell_type": "markdown",
   "metadata": {
    "id": "5oVcogMJ2LBU",
    "colab_type": "text"
   },
   "source": [
    "# Network put together from google drive:"
   ]
  },
  {
   "cell_type": "code",
   "metadata": {
    "id": "Gl3SDIoyr-L8",
    "colab_type": "code",
    "outputId": "0a9ef6f4-f80e-4b61-9a18-9e8c6618d1c6",
    "executionInfo": {
     "status": "ok",
     "timestamp": 1574020261089,
     "user_tz": -60,
     "elapsed": 2612,
     "user": {
      "displayName": "Gregor Benčať",
      "photoUrl": "",
      "userId": "15199065984342419772"
     }
    },
    "colab": {
     "base_uri": "https://localhost:8080/",
     "height": 34
    }
   },
   "source": [
    "from google.colab import drive\n",
    "drive.mount('/content/drive', force_remount=True)"
   ],
   "execution_count": 1,
   "outputs": [
    {
     "output_type": "stream",
     "text": [
      "Mounted at /content/drive\n"
     ],
     "name": "stdout"
    }
   ]
  },
  {
   "cell_type": "code",
   "metadata": {
    "id": "Z3hQFrvmq_lQ",
    "colab_type": "code",
    "colab": {}
   },
   "source": [
    "import sys\n",
    "sys.path.append('/content/drive/My Drive/weather_forecast/')"
   ],
   "execution_count": 0,
   "outputs": []
  },
  {
   "cell_type": "code",
   "metadata": {
    "id": "mLbjr_V3sT3Q",
    "colab_type": "code",
    "outputId": "7fb5b211-cf45-44c5-f4c1-5f9ec4f1369b",
    "executionInfo": {
     "status": "ok",
     "timestamp": 1574020264073,
     "user_tz": -60,
     "elapsed": 2722,
     "user": {
      "displayName": "Gregor Benčať",
      "photoUrl": "",
      "userId": "15199065984342419772"
     }
    },
    "colab": {
     "base_uri": "https://localhost:8080/",
     "height": 34
    }
   },
   "source": [
    "from __future__ import absolute_import, division, print_function, unicode_literals\n",
    "# Install TensorFlow\n",
    "try:\n",
    "  # %tensorflow_version only exists in Colab.\n",
    "  %tensorflow_version 2.x\n",
    "except Exception:\n",
    "  pass\n",
    "import tensorflow as tf\n",
    "\n",
    "\n",
    "import matplotlib as mpl\n",
    "import matplotlib.pyplot as plt\n",
    "import numpy as np\n",
    "import os\n",
    "import pandas as pd\n",
    "from random import randrange"
   ],
   "execution_count": 3,
   "outputs": [
    {
     "output_type": "stream",
     "text": [
      "TensorFlow 2.x selected.\n"
     ],
     "name": "stdout"
    }
   ]
  },
  {
   "cell_type": "code",
   "metadata": {
    "id": "6qFETYiKrvIt",
    "colab_type": "code",
    "colab": {}
   },
   "source": [
    "from src.data.load_data import load_data, create_time_steps, prepare_dataset\n",
    "from src.models.model import LSTMModel\n",
    "from src.models.train import train\n",
    "from src.models.predict import predict\n",
    "\n",
    "def show_plot(history, true_future, prediction):\n",
    "    plt.figure(figsize=(12, 6))\n",
    "    num_in = create_time_steps(len(history))\n",
    "    num_out = len(true_future)\n",
    "\n",
    "    plt.plot(num_in, np.array(history[:, 1]), label='History')\n",
    "    plt.plot(np.arange(num_out)/STEP, np.array(true_future), 'bo',\n",
    "            label='True Future')\n",
    "    if prediction.any():\n",
    "        plt.plot(np.arange(num_out)/STEP, np.array(prediction), 'ro',\n",
    "                label='Predicted Future')\n",
    "    plt.legend(loc='upper left')\n",
    "    plt.show()"
   ],
   "execution_count": 0,
   "outputs": []
  },
  {
   "cell_type": "code",
   "metadata": {
    "id": "7ZcEouTNv9Fu",
    "colab_type": "code",
    "colab": {}
   },
   "source": [
    "data, TRAIN_SPLIT = load_data()"
   ],
   "execution_count": 0,
   "outputs": []
  },
  {
   "cell_type": "code",
   "metadata": {
    "id": "il2me6wtzbnt",
    "colab_type": "code",
    "colab": {}
   },
   "source": [
    "look_back = 120  # check last 5 days\n",
    "prediction = 12  # predict next 12 hours\n",
    "STEP = 1\n",
    "\n",
    "x_train, y_train, x_val, y_val = prepare_dataset(data, TRAIN_SPLIT, look_back, prediction, STEP)\n"
   ],
   "execution_count": 0,
   "outputs": []
  },
  {
   "cell_type": "code",
   "metadata": {
    "id": "3VUF1X023X3p",
    "colab_type": "code",
    "colab": {}
   },
   "source": [
    "lstm_model = LSTMModel(x_train.shape[-2:])"
   ],
   "execution_count": 0,
   "outputs": []
  },
  {
   "cell_type": "code",
   "metadata": {
    "id": "jTm1JzZf16zt",
    "colab_type": "code",
    "outputId": "829e1536-2d87-4232-bdbb-7d577e0a317b",
    "executionInfo": {
     "status": "ok",
     "timestamp": 1574018657819,
     "user_tz": -60,
     "elapsed": 113140,
     "user": {
      "displayName": "Gregor Benčať",
      "photoUrl": "",
      "userId": "15199065984342419772"
     }
    },
    "colab": {
     "base_uri": "https://localhost:8080/",
     "height": 1000
    }
   },
   "source": [
    "lstm_model = train(lstm_model,x_train,y_train,x_val,y_val,15,200)"
   ],
   "execution_count": 18,
   "outputs": [
    {
     "output_type": "stream",
     "text": [
      "Train on 6887 samples, validate on 1620 samples\n",
      "Epoch 1/15\n",
      "6800/6887 [============================>.] - ETA: 0s - loss: 0.7390\n",
      "Epoch 00001: saving model to /content/drive/My Drive/weather_forecast/models/cp.ckpt\n",
      "6887/6887 [==============================] - 11s 2ms/sample - loss: 0.7359 - val_loss: 0.9385\n",
      "Epoch 2/15\n",
      "6800/6887 [============================>.] - ETA: 0s - loss: 0.3926\n",
      "Epoch 00002: saving model to /content/drive/My Drive/weather_forecast/models/cp.ckpt\n",
      "6887/6887 [==============================] - 7s 1ms/sample - loss: 0.3915 - val_loss: 0.5155\n",
      "Epoch 3/15\n",
      "6800/6887 [============================>.] - ETA: 0s - loss: 0.2158\n",
      "Epoch 00003: saving model to /content/drive/My Drive/weather_forecast/models/cp.ckpt\n",
      "6887/6887 [==============================] - 7s 1ms/sample - loss: 0.2151 - val_loss: 0.2697\n",
      "Epoch 4/15\n",
      "6800/6887 [============================>.] - ETA: 0s - loss: 0.1369\n",
      "Epoch 00004: saving model to /content/drive/My Drive/weather_forecast/models/cp.ckpt\n",
      "6887/6887 [==============================] - 7s 1ms/sample - loss: 0.1365 - val_loss: 0.2083\n",
      "Epoch 5/15\n",
      "6800/6887 [============================>.] - ETA: 0s - loss: 0.0866\n",
      "Epoch 00005: saving model to /content/drive/My Drive/weather_forecast/models/cp.ckpt\n",
      "6887/6887 [==============================] - 7s 1ms/sample - loss: 0.0864 - val_loss: 0.1151\n",
      "Epoch 6/15\n",
      "6800/6887 [============================>.] - ETA: 0s - loss: 0.0553\n",
      "Epoch 00006: saving model to /content/drive/My Drive/weather_forecast/models/cp.ckpt\n",
      "6887/6887 [==============================] - 7s 1ms/sample - loss: 0.0552 - val_loss: 0.0788\n",
      "Epoch 7/15\n",
      "6800/6887 [============================>.] - ETA: 0s - loss: 0.0392\n",
      "Epoch 00007: saving model to /content/drive/My Drive/weather_forecast/models/cp.ckpt\n",
      "6887/6887 [==============================] - 7s 1ms/sample - loss: 0.0392 - val_loss: 0.0591\n",
      "Epoch 8/15\n",
      "6800/6887 [============================>.] - ETA: 0s - loss: 0.0282\n",
      "Epoch 00008: saving model to /content/drive/My Drive/weather_forecast/models/cp.ckpt\n",
      "6887/6887 [==============================] - 7s 1ms/sample - loss: 0.0282 - val_loss: 0.0442\n",
      "Epoch 9/15\n",
      "6800/6887 [============================>.] - ETA: 0s - loss: 0.0199\n",
      "Epoch 00009: saving model to /content/drive/My Drive/weather_forecast/models/cp.ckpt\n",
      "6887/6887 [==============================] - 7s 1ms/sample - loss: 0.0199 - val_loss: 0.0320\n",
      "Epoch 10/15\n",
      "6800/6887 [============================>.] - ETA: 0s - loss: 0.0148\n",
      "Epoch 00010: saving model to /content/drive/My Drive/weather_forecast/models/cp.ckpt\n",
      "6887/6887 [==============================] - 7s 1ms/sample - loss: 0.0148 - val_loss: 0.0264\n",
      "Epoch 11/15\n",
      "6800/6887 [============================>.] - ETA: 0s - loss: 0.0113\n",
      "Epoch 00011: saving model to /content/drive/My Drive/weather_forecast/models/cp.ckpt\n",
      "6887/6887 [==============================] - 7s 1ms/sample - loss: 0.0113 - val_loss: 0.0227\n",
      "Epoch 12/15\n",
      "6800/6887 [============================>.] - ETA: 0s - loss: 0.0092\n",
      "Epoch 00012: saving model to /content/drive/My Drive/weather_forecast/models/cp.ckpt\n",
      "6887/6887 [==============================] - 7s 1ms/sample - loss: 0.0092 - val_loss: 0.0198\n",
      "Epoch 13/15\n",
      "6800/6887 [============================>.] - ETA: 0s - loss: 0.0081\n",
      "Epoch 00013: saving model to /content/drive/My Drive/weather_forecast/models/cp.ckpt\n",
      "6887/6887 [==============================] - 7s 1ms/sample - loss: 0.0081 - val_loss: 0.0174\n",
      "Epoch 14/15\n",
      "6800/6887 [============================>.] - ETA: 0s - loss: 0.0069\n",
      "Epoch 00014: saving model to /content/drive/My Drive/weather_forecast/models/cp.ckpt\n",
      "6887/6887 [==============================] - 7s 1ms/sample - loss: 0.0069 - val_loss: 0.0174\n",
      "Epoch 15/15\n",
      "6800/6887 [============================>.] - ETA: 0s - loss: 0.0061\n",
      "Epoch 00015: saving model to /content/drive/My Drive/weather_forecast/models/cp.ckpt\n",
      "6887/6887 [==============================] - 7s 1ms/sample - loss: 0.0061 - val_loss: 0.0158\n",
      "Model: \"lstm_model_1\"\n",
      "_________________________________________________________________\n",
      "Layer (type)                 Output Shape              Param #   \n",
      "=================================================================\n",
      "lstm_2 (LSTM)                multiple                  4608      \n",
      "_________________________________________________________________\n",
      "lstm_3 (LSTM)                multiple                  3136      \n",
      "_________________________________________________________________\n",
      "dense_1 (Dense)              multiple                  204       \n",
      "=================================================================\n",
      "Total params: 7,948\n",
      "Trainable params: 7,948\n",
      "Non-trainable params: 0\n",
      "_________________________________________________________________\n"
     ],
     "name": "stdout"
    }
   ]
  },
  {
   "cell_type": "code",
   "metadata": {
    "id": "rT_zMy469KJW",
    "colab_type": "code",
    "colab": {
     "base_uri": "https://localhost:8080/",
     "height": 391
    },
    "outputId": "93089156-94bd-47ea-cf76-9362f726496e",
    "executionInfo": {
     "status": "ok",
     "timestamp": 1574018692015,
     "user_tz": -60,
     "elapsed": 5919,
     "user": {
      "displayName": "Gregor Benčať",
      "photoUrl": "",
      "userId": "15199065984342419772"
     }
    },
    "pycharm": {
     "name": "#%%\n"
    }
   },
   "source": [
    "value = randrange(len(x_val))\n",
    "print(value)\n",
    "show_plot(x_val[value], y_val[value] , lstm_model.predict(x_val)[value])\n",
    "\n"
   ],
   "execution_count": 20,
   "outputs": [
    {
     "output_type": "stream",
     "text": [
      "639\n"
     ],
     "name": "stdout"
    },
    {
     "output_type": "display_data",
     "data": {
      "image/png": "[encoded data removed]",
      "text/plain": [
       "<Figure size 864x432 with 1 Axes>"
      ]
     },
     "metadata": {
      "tags": []
     }
    }
   ]
  }
 ]
}